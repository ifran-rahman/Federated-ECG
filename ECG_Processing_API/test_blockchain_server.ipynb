{
 "cells": [
  {
   "cell_type": "code",
   "execution_count": 11,
   "metadata": {},
   "outputs": [
    {
     "name": "stdout",
     "output_type": "stream",
     "text": [
      "b'*** Result: [\\n  {\\n    \"ID\": \"asset26\",\\n    \"IsVerified\": \"true\",\\n    \"OwnerID\": \"ownerId6543647\",\\n    \"Type\": \"doctor\",\\n    \"data\": \"{[1,2,3]}\"\\n  }\\n]'\n"
     ]
    }
   ],
   "source": [
    "import requests\n",
    "import json\n",
    "\n",
    "response = requests.get('http://localhost:3210/asset')\n",
    "print(response.content)\n"
   ]
  },
  {
   "cell_type": "code",
   "execution_count": 12,
   "metadata": {},
   "outputs": [
    {
     "name": "stdout",
     "output_type": "stream",
     "text": [
      "[{'ID': 'asset26', 'IsVerified': 'true', 'OwnerID': 'ownerId6543647', 'Type': 'doctor', 'data': '{[1,2,3]}'}]\n"
     ]
    }
   ],
   "source": [
    "data = response.content\n",
    "json_data = json.loads(data.decode('utf-8').split('*** Result: ')[1])\n",
    "\n",
    "print(json_data)\n"
   ]
  }
 ],
 "metadata": {
  "kernelspec": {
   "display_name": "pytorch",
   "language": "python",
   "name": "pytorch"
  },
  "language_info": {
   "codemirror_mode": {
    "name": "ipython",
    "version": 3
   },
   "file_extension": ".py",
   "mimetype": "text/x-python",
   "name": "python",
   "nbconvert_exporter": "python",
   "pygments_lexer": "ipython3",
   "version": "3.11.5"
  }
 },
 "nbformat": 4,
 "nbformat_minor": 2
}
