{
 "cells": [
  {
   "cell_type": "code",
   "execution_count": 5,
   "metadata": {},
   "outputs": [],
   "source": [
    "import torch\n",
    "from torch.utils.data import DataLoader\n",
    "from torch import nn,optim\n",
    "import sys\n",
    "from tqdm import tqdm\n",
    "import pandas as pd"
   ]
  },
  {
   "cell_type": "code",
   "execution_count": 50,
   "metadata": {},
   "outputs": [],
   "source": [
    "#define a Dataloader function\n",
    "def my_DataLoader(train_root,test_root,batch_size = 100, val_split_factor = 0.2):\n",
    "\n",
    "    train_df = pd.read_csv(train_root, header=None)\n",
    "    test_df = pd.read_csv(test_root, header=None)\n",
    "\n",
    "    train_data = train_df.to_numpy()\n",
    "    test_data = test_df.to_numpy()\n",
    "\n",
    "    train_dataset = torch.utils.data.TensorDataset(torch.from_numpy(train_data[:, :-1]).float(),\n",
    "                                                   torch.from_numpy(train_data[:, -1]).long(),)\n",
    "    test_dataset = torch.utils.data.TensorDataset(torch.from_numpy(test_data[:, :-1]).float(),\n",
    "                                                  torch.from_numpy(test_data[:, -1]).long())\n",
    "\n",
    "    train_len = train_data.shape[0]\n",
    "    val_len = int(train_len * val_split_factor)\n",
    "    train_len -= val_len\n",
    "\n",
    "    train_dataset, val_dataset = torch.utils.data.random_split(train_dataset, [train_len, val_len])\n",
    "\n",
    "    train_loader = DataLoader(train_dataset, batch_size=batch_size, shuffle=True)\n",
    "    val_loader = DataLoader(val_dataset, batch_size=batch_size, shuffle=True)\n",
    "    test_loader = DataLoader(test_dataset, batch_size=batch_size, shuffle=True)\n",
    "\n",
    "    return train_loader, val_loader, test_loader"
   ]
  },
  {
   "cell_type": "code",
   "execution_count": 13,
   "metadata": {},
   "outputs": [],
   "source": [
    "#define the NET model\n",
    "class  ecg_net(nn.Module):\n",
    "\n",
    "    def __init__(self, num_of_class):\n",
    "        super(ecg_net, self).__init__()\n",
    "\n",
    "        self.model = nn.Sequential(\n",
    "            nn.Conv1d(1, 16, kernel_size=3, stride=1, padding=1),\n",
    "            nn.MaxPool1d(2),\n",
    "\n",
    "            nn.Conv1d(16, 64, kernel_size=3, stride=1, padding=1),\n",
    "            nn.MaxPool1d(2),\n",
    "\n",
    "            nn.Conv1d(64, 128, kernel_size=3, stride=1, padding=1),\n",
    "            nn.MaxPool1d(2),\n",
    "\n",
    "        )\n",
    "\n",
    "        self.linear = nn.Sequential(\n",
    "            nn.Linear(2944,500),\n",
    "            nn.LeakyReLU(inplace=True),\n",
    "            nn.Linear(500, num_of_class),\n",
    "\n",
    "        )\n",
    "\n",
    "\n",
    "    def forward(self,x):\n",
    "        x = x.unsqueeze(1)\n",
    "        x = self.model(x)\n",
    "        # print(x.shape)\n",
    "        x = x.view(x.size(0), -1)\n",
    "        #x [b, 2944]\n",
    "        # print(x.shape)\n",
    "        x = self.linear(x)\n",
    "\n",
    "        return x"
   ]
  },
  {
   "cell_type": "code",
   "execution_count": 9,
   "metadata": {},
   "outputs": [
    {
     "name": "stdout",
     "output_type": "stream",
     "text": [
      "using cuda:0 device.\n"
     ]
    },
    {
     "ename": "NameError",
     "evalue": "name 'my_DataLoader' is not defined",
     "output_type": "error",
     "traceback": [
      "\u001b[1;31m---------------------------------------------------------------------------\u001b[0m",
      "\u001b[1;31mNameError\u001b[0m                                 Traceback (most recent call last)",
      "\u001b[1;32m~\\AppData\\Local\\Temp\\ipykernel_12548\\2446514279.py\u001b[0m in \u001b[0;36m<module>\u001b[1;34m\u001b[0m\n\u001b[0;32m     88\u001b[0m \u001b[1;33m\u001b[0m\u001b[0m\n\u001b[0;32m     89\u001b[0m \u001b[1;32mif\u001b[0m \u001b[0m__name__\u001b[0m \u001b[1;33m==\u001b[0m \u001b[1;34m'__main__'\u001b[0m\u001b[1;33m:\u001b[0m\u001b[1;33m\u001b[0m\u001b[1;33m\u001b[0m\u001b[0m\n\u001b[1;32m---> 90\u001b[1;33m     \u001b[0mmain\u001b[0m\u001b[1;33m(\u001b[0m\u001b[1;33m)\u001b[0m\u001b[1;33m\u001b[0m\u001b[1;33m\u001b[0m\u001b[0m\n\u001b[0m",
      "\u001b[1;32m~\\AppData\\Local\\Temp\\ipykernel_12548\\2446514279.py\u001b[0m in \u001b[0;36mmain\u001b[1;34m()\u001b[0m\n\u001b[0;32m     25\u001b[0m \u001b[1;32mdef\u001b[0m \u001b[0mmain\u001b[0m\u001b[1;33m(\u001b[0m\u001b[1;33m)\u001b[0m\u001b[1;33m:\u001b[0m\u001b[1;33m\u001b[0m\u001b[1;33m\u001b[0m\u001b[0m\n\u001b[0;32m     26\u001b[0m \u001b[1;33m\u001b[0m\u001b[0m\n\u001b[1;32m---> 27\u001b[1;33m     train_loader, val_loader, test_loader = my_DataLoader('datasets/mitbih_test.csv',\n\u001b[0m\u001b[0;32m     28\u001b[0m                                                           \u001b[1;34m'datasets/mitbih_test.csv'\u001b[0m\u001b[1;33m,\u001b[0m\u001b[1;33m\u001b[0m\u001b[1;33m\u001b[0m\u001b[0m\n\u001b[0;32m     29\u001b[0m                                                           \u001b[0mbatch_size\u001b[0m\u001b[1;33m=\u001b[0m\u001b[0mbatch_size\u001b[0m\u001b[1;33m,\u001b[0m\u001b[1;33m\u001b[0m\u001b[1;33m\u001b[0m\u001b[0m\n",
      "\u001b[1;31mNameError\u001b[0m: name 'my_DataLoader' is not defined"
     ]
    }
   ],
   "source": [
    "batch_size=1000\n",
    "lr = 3e-3\n",
    "epochs = 10\n",
    "torch.manual_seed(1234)\n",
    "\n",
    "device = torch.device(\"cuda:0\" if torch.cuda.is_available() else \"cpu\")\n",
    "print(\"using {} device.\".format(device))\n",
    "\n",
    "def evalute(model, loader):\n",
    "    model.eval()\n",
    "\n",
    "    correct = 0\n",
    "    total = len(loader.dataset)\n",
    "    val_bar = tqdm(loader, file=sys.stdout)\n",
    "    for x, y in val_bar:\n",
    "        x, y = x.to(device), y.to(device)\n",
    "        with torch.no_grad():\n",
    "            logits = model(x)\n",
    "            pred = logits.argmax(dim=1)\n",
    "        correct += torch.eq(pred, y).sum().float().item()\n",
    "\n",
    "\n",
    "    return correct / total\n",
    "\n",
    "def main():\n",
    "\n",
    "    train_loader, val_loader, test_loader = my_DataLoader('datasets/mitbih_test.csv',\n",
    "                                                          'datasets/mitbih_test.csv',\n",
    "                                                          batch_size=batch_size,\n",
    "                                                          val_split_factor=0.2)\n",
    "\n",
    "    model = ecg_net(5).to(device)\n",
    "    optimizer = optim.Adam(model.parameters(), lr=lr)\n",
    "    criteon = nn.CrossEntropyLoss()\n",
    "\n",
    "    \n",
    "    best_acc, best_epoch = 0, 0\n",
    "    global_step = 0\n",
    "\n",
    "    for epoch in range(epochs):\n",
    "\n",
    "        train_bar = tqdm(train_loader, file=sys.stdout)\n",
    "        for step, (x, y) in enumerate(train_bar):\n",
    "            # x: [b, 187], y: [b]\n",
    "            x, y = x.to(device), y.to(device)\n",
    "\n",
    "            model.train()\n",
    "            logits = model(x)\n",
    "            print(\"Logits size\", logits.size())\n",
    "            print(\"y size\", y.size())\n",
    "            \n",
    "            loss = criteon(logits, y)\n",
    "\n",
    "            optimizer.zero_grad()\n",
    "            loss.backward()\n",
    "\n",
    "            # for param in model.parameters():\n",
    "            #     print(param.grad)\n",
    "\n",
    "            optimizer.step()\n",
    "\n",
    "            train_bar.desc = \"train epoch[{}/{}] loss:{:.3f}\".format(epoch + 1,\n",
    "                                                                     epochs,\n",
    "                                                                     loss)\n",
    "\n",
    "            global_step += 1\n",
    "\n",
    "        if epoch % 1 == 0:  # You can change the validation frequency as you wish\n",
    "\n",
    "            val_acc = evalute(model, val_loader)\n",
    "            \n",
    "            print('val_acc = ',val_acc)\n",
    "            if val_acc > best_acc:\n",
    "                best_epoch = epoch\n",
    "                best_acc = val_acc\n",
    "\n",
    "                torch.save(model.state_dict(), 'best.mdl')\n",
    "\n",
    "\n",
    "    print('best acc:', best_acc, 'best epoch:', best_epoch)\n",
    "\n",
    "    model.load_state_dict(torch.load('best.mdl'))\n",
    "    print('loaded from ckpt!')\n",
    "\n",
    "    test_acc = evalute(model, test_loader)\n",
    "    print('test acc:', test_acc)\n",
    "\n",
    "\n",
    "if __name__ == '__main__':\n",
    "    main()"
   ]
  },
  {
   "cell_type": "code",
   "execution_count": 1,
   "metadata": {},
   "outputs": [],
   "source": [
    "import pandas as pd\n",
    "import numpy as np\n",
    "\n",
    "abnormal = pd.read_csv('datasets/ptbdb_abnormal.csv', header = None)\n",
    "normal = pd.read_csv('datasets/ptbdb_normal.csv', header = None)\n",
    "\n",
    "abnormal = abnormal.drop([187], axis=1)\n",
    "normal = normal.drop([187], axis=1)\n",
    "\n",
    "y_abnormal = np.ones((abnormal.shape[0]))\n",
    "y_abnormal = pd.DataFrame(y_abnormal)\n",
    "\n",
    "y_normal = np.zeros((normal.shape[0]))\n",
    "y_normal = pd.DataFrame(y_normal)\n",
    "\n",
    "x = pd.concat([abnormal, normal], sort=True)\n",
    "y = pd.concat([y_abnormal, y_normal] ,sort=True)"
   ]
  },
  {
   "cell_type": "code",
   "execution_count": 2,
   "metadata": {},
   "outputs": [],
   "source": [
    "x = x.to_numpy()\n",
    "y = y[0].to_numpy()"
   ]
  },
  {
   "cell_type": "code",
   "execution_count": 6,
   "metadata": {},
   "outputs": [],
   "source": [
    "train_dataset = torch.utils.data.TensorDataset(torch.from_numpy(x).float(),\n",
    "                                                torch.from_numpy(y).long())"
   ]
  },
  {
   "cell_type": "code",
   "execution_count": 10,
   "metadata": {},
   "outputs": [
    {
     "data": {
      "text/plain": [
       "<torch._C.Generator at 0x2b8ecdbc5b0>"
      ]
     },
     "execution_count": 10,
     "metadata": {},
     "output_type": "execute_result"
    }
   ],
   "source": [
    "batch_size=1000\n",
    "lr = 3e-3\n",
    "epochs = 10\n",
    "val_split_factor = 0.2\n",
    "torch.manual_seed(1234)"
   ]
  },
  {
   "cell_type": "code",
   "execution_count": 7,
   "metadata": {},
   "outputs": [],
   "source": [
    "train_len = x.shape[0]\n",
    "val_len = int(train_len * val_split_factor)\n",
    "train_len -= val_len\n",
    "\n",
    "train_dataset, val_dataset = torch.utils.data.random_split(train_dataset, [train_len, val_len])"
   ]
  },
  {
   "cell_type": "code",
   "execution_count": 11,
   "metadata": {},
   "outputs": [],
   "source": [
    "train_loader = DataLoader(train_dataset, batch_size=batch_size, shuffle=True)\n",
    "val_loader = DataLoader(val_dataset, batch_size=batch_size, shuffle=True)"
   ]
  },
  {
   "cell_type": "code",
   "execution_count": 14,
   "metadata": {},
   "outputs": [
    {
     "name": "stdout",
     "output_type": "stream",
     "text": [
      "using cuda:0 device.\n",
      "train epoch[1/10] loss:0.529: 100%|██████████| 12/12 [00:08<00:00,  1.48it/s]\n",
      "100%|██████████| 3/3 [00:00<00:00, 23.49it/s]\n",
      "val_acc =  0.7089347079037801\n",
      "train epoch[2/10] loss:0.501: 100%|██████████| 12/12 [00:01<00:00,  7.63it/s]\n",
      "100%|██████████| 3/3 [00:00<00:00, 23.06it/s]\n",
      "val_acc =  0.7429553264604811\n",
      "train epoch[3/10] loss:0.427: 100%|██████████| 12/12 [00:01<00:00,  7.58it/s]\n",
      "100%|██████████| 3/3 [00:00<00:00, 22.36it/s]\n",
      "val_acc =  0.7835051546391752\n",
      "train epoch[4/10] loss:0.360: 100%|██████████| 12/12 [00:01<00:00,  7.63it/s]\n",
      "100%|██████████| 3/3 [00:00<00:00, 16.89it/s]\n",
      "val_acc =  0.7924398625429553\n",
      "train epoch[5/10] loss:0.365: 100%|██████████| 12/12 [00:01<00:00,  7.59it/s]\n",
      "100%|██████████| 3/3 [00:00<00:00, 22.24it/s]\n",
      "val_acc =  0.8099656357388316\n",
      "train epoch[6/10] loss:0.445: 100%|██████████| 12/12 [00:01<00:00,  7.58it/s]\n",
      "100%|██████████| 3/3 [00:00<00:00, 23.58it/s]\n",
      "val_acc =  0.8257731958762886\n",
      "train epoch[7/10] loss:0.294: 100%|██████████| 12/12 [00:01<00:00,  7.60it/s]\n",
      "100%|██████████| 3/3 [00:00<00:00, 22.62it/s]\n",
      "val_acc =  0.8525773195876288\n",
      "train epoch[8/10] loss:0.255: 100%|██████████| 12/12 [00:01<00:00,  7.41it/s]\n",
      "100%|██████████| 3/3 [00:00<00:00, 22.99it/s]\n",
      "val_acc =  0.8793814432989691\n",
      "train epoch[9/10] loss:0.268: 100%|██████████| 12/12 [00:01<00:00,  7.61it/s]\n",
      "100%|██████████| 3/3 [00:00<00:00, 22.54it/s]\n",
      "val_acc =  0.9006872852233677\n",
      "train epoch[10/10] loss:0.204: 100%|██████████| 12/12 [00:01<00:00,  7.61it/s]\n",
      "100%|██████████| 3/3 [00:00<00:00, 22.93it/s]\n",
      "val_acc =  0.8810996563573883\n",
      "best acc: 0.9006872852233677 best epoch: 8\n",
      "loaded from ckpt!\n"
     ]
    }
   ],
   "source": [
    "batch_size=1000\n",
    "lr = 3e-3\n",
    "epochs = 10\n",
    "torch.manual_seed(1234)\n",
    "\n",
    "device = torch.device(\"cuda:0\" if torch.cuda.is_available() else \"cpu\")\n",
    "print(\"using {} device.\".format(device))\n",
    "\n",
    "def evalute(model, loader):\n",
    "    model.eval()\n",
    "\n",
    "    correct = 0\n",
    "    total = len(loader.dataset)\n",
    "    val_bar = tqdm(loader, file=sys.stdout)\n",
    "    for x, y in val_bar:\n",
    "        x, y = x.to(device), y.to(device)\n",
    "        with torch.no_grad():\n",
    "            logits = model(x)\n",
    "            pred = logits.argmax(dim=1)\n",
    "        correct += torch.eq(pred, y).sum().float().item()\n",
    "\n",
    "\n",
    "    return correct / total\n",
    "    \n",
    "model = ecg_net(2).to(device)\n",
    "optimizer = optim.Adam(model.parameters(), lr=lr)\n",
    "criteon = nn.CrossEntropyLoss()\n",
    "\n",
    "best_acc, best_epoch = 0, 0\n",
    "global_step = 0\n",
    "\n",
    "for epoch in range(epochs):\n",
    "\n",
    "    train_bar = tqdm(train_loader, file=sys.stdout)\n",
    "    for step, (x, y) in enumerate(train_bar):\n",
    "        # x: [b, 187], y: [b]\n",
    "        x, y = x.to(device), y.to(device)\n",
    "\n",
    "        model.train()\n",
    "        logits = model(x)\n",
    "        loss = criteon(logits, y)\n",
    "\n",
    "        optimizer.zero_grad()\n",
    "        loss.backward()\n",
    "\n",
    "        # for param in model.parameters():\n",
    "        #     print(param.grad)\n",
    "\n",
    "        optimizer.step()\n",
    "\n",
    "        train_bar.desc = \"train epoch[{}/{}] loss:{:.3f}\".format(epoch + 1,\n",
    "                                                                    epochs,\n",
    "                                                                    loss)\n",
    "\n",
    "        global_step += 1\n",
    "\n",
    "    if epoch % 1 == 0:  # You can change the validation frequency as you wish\n",
    "\n",
    "        val_acc = evalute(model, val_loader)\n",
    "        \n",
    "        print('val_acc = ',val_acc)\n",
    "        if val_acc > best_acc:\n",
    "            best_epoch = epoch\n",
    "            best_acc = val_acc\n",
    "\n",
    "            torch.save(model.state_dict(), 'best.mdl')\n",
    "\n",
    "\n",
    "print('best acc:', best_acc, 'best epoch:', best_epoch)\n",
    "\n",
    "model.load_state_dict(torch.load('best.mdl'))\n",
    "print('loaded from ckpt!')"
   ]
  },
  {
   "cell_type": "code",
   "execution_count": 1,
   "metadata": {},
   "outputs": [
    {
     "name": "stdout",
     "output_type": "stream",
     "text": [
      "using cuda:0 device.\n"
     ]
    }
   ],
   "source": [
    "from cen_train import *"
   ]
  },
  {
   "cell_type": "code",
   "execution_count": 2,
   "metadata": {},
   "outputs": [],
   "source": [
    "# load dataset\n",
    "abnormal = pd.read_csv('datasets/ptbdb_abnormal.csv', header = None)\n",
    "normal = pd.read_csv('datasets/ptbdb_normal.csv', header = None)\n",
    "\n",
    "train_dataset, val_dataset, num_examples = prepare__dataset(abnormal=abnormal, normal=normal, val_split_factor=val_split_factor)\n",
    "\n",
    "train_loader = DataLoader(train_dataset, batch_size=batch_size, shuffle=True)\n",
    "val_loader = DataLoader(val_dataset, batch_size=batch_size, shuffle=True)"
   ]
  },
  {
   "cell_type": "code",
   "execution_count": 4,
   "metadata": {},
   "outputs": [],
   "source": [
    "model = ecg_net(2).to(device=device)"
   ]
  },
  {
   "cell_type": "code",
   "execution_count": 5,
   "metadata": {},
   "outputs": [
    {
     "name": "stdout",
     "output_type": "stream",
     "text": [
      "train epoch[1/2] loss:0.575: 100%|██████████| 12/12 [00:18<00:00,  1.54s/it]\n",
      "100%|██████████| 3/3 [00:00<00:00, 29.41it/s]\n",
      "val_acc =  0.7123711340206186\n",
      "Global steps 12\n",
      "train epoch[2/2] loss:0.525: 100%|██████████| 12/12 [00:01<00:00,  8.58it/s]\n",
      "100%|██████████| 3/3 [00:00<00:00, 28.30it/s]\n",
      "val_acc =  0.7123711340206186\n",
      "Global steps 24\n",
      "best acc: 0.7123711340206186 best epoch: 0\n"
     ]
    },
    {
     "ename": "",
     "evalue": "",
     "output_type": "error",
     "traceback": [
      "\u001b[1;31mThe Kernel crashed while executing code in the the current cell or a previous cell. Please review the code in the cell(s) to identify a possible cause of the failure. Click <a href='https://aka.ms/vscodeJupyterKernelCrash'>here</a> for more info. View Jupyter <a href='command:jupyter.viewOutput'>log</a> for further details."
     ]
    }
   ],
   "source": [
    "train_client(model= model, train_loader = train_loader, valid_loader=val_loader, epochs=2)"
   ]
  },
  {
   "cell_type": "code",
   "execution_count": null,
   "metadata": {},
   "outputs": [],
   "source": []
  }
 ],
 "metadata": {
  "kernelspec": {
   "display_name": "pytorch_p39",
   "language": "python",
   "name": "python3"
  },
  "language_info": {
   "codemirror_mode": {
    "name": "ipython",
    "version": 3
   },
   "file_extension": ".py",
   "mimetype": "text/x-python",
   "name": "python",
   "nbconvert_exporter": "python",
   "pygments_lexer": "ipython3",
   "version": "3.9.7"
  },
  "orig_nbformat": 4,
  "vscode": {
   "interpreter": {
    "hash": "b3e6a9f591547395828c865e527d0050dc37cbf1baccbdaf401b7106b8df2050"
   }
  }
 },
 "nbformat": 4,
 "nbformat_minor": 2
}
